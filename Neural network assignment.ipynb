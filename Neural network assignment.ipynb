{
 "cells": [
  {
   "cell_type": "markdown",
   "id": "13091364-286f-4506-b6e7-782f1dd4e935",
   "metadata": {},
   "source": [
    "1. Create a folder\n",
    "2. Navigate into the folder\n",
    "3. Intialize Git Repositary\n",
    "4. Create Files\n",
    "5. Add files to stagging\n",
    "6. Commit changes"
   ]
  },
  {
   "cell_type": "markdown",
   "id": "de06a996-755e-4433-9d10-cc75f414973c",
   "metadata": {},
   "source": [
    "To create a septate enviroment for your project you can use virtual enviroments here how you can do it using python virtualenv:\n",
    "1. Install virtualeny\n",
    "2. create a new virtual\n",
    "3. Activate the virtual enviroment\n",
    "4. Install dependencies"
   ]
  },
  {
   "cell_type": "code",
   "execution_count": 1,
   "id": "d7a29bd2-368c-458c-af12-997155bd934d",
   "metadata": {},
   "outputs": [
    {
     "ename": "SyntaxError",
     "evalue": "unterminated string literal (detected at line 11) (854429193.py, line 11)",
     "output_type": "error",
     "traceback": [
      "\u001b[0;36m  Cell \u001b[0;32mIn[1], line 11\u001b[0;36m\u001b[0m\n\u001b[0;31m    print(f\"Crated project directory:{project_name}\u001b[0m\n\u001b[0m          ^\u001b[0m\n\u001b[0;31mSyntaxError\u001b[0m\u001b[0;31m:\u001b[0m unterminated string literal (detected at line 11)\n"
     ]
    }
   ],
   "source": [
    "import os\n",
    "\n",
    "def\n",
    "create_ml_project_structure(project_name):\n",
    "    # Define the project directory\n",
    "    project_dir = os.path.join(os.join(os.getcwd()\n",
    "                                       project_name)\n",
    "                               \n",
    "     # Create main project directory\n",
    "      os.makediris(project_dir,exist_ok=True)\n",
    "    print(f\"Crated project directory:{project_name}"
   ]
  },
  {
   "cell_type": "code",
   "execution_count": 2,
   "id": "538a43c7-ebba-4d90-8bb4-15eed3478235",
   "metadata": {},
   "outputs": [
    {
     "ename": "SyntaxError",
     "evalue": "incomplete input (3275137486.py, line 5)",
     "output_type": "error",
     "traceback": [
      "\u001b[0;36m  Cell \u001b[0;32mIn[2], line 5\u001b[0;36m\u001b[0m\n\u001b[0;31m    \"\"\"\u001b[0m\n\u001b[0m    ^\u001b[0m\n\u001b[0;31mSyntaxError\u001b[0m\u001b[0;31m:\u001b[0m incomplete input\n"
     ]
    }
   ],
   "source": [
    " import logging\n",
    " import os\n",
    "\n",
    "def setup_logger(log_dir):\n",
    "    \"\"\"\n",
    "    Setup logger cofiguration.\n",
    "    \n",
    "    Args:\n",
    "    log_dir (str):Directory to save log files.\n",
    "    # Create log directory if it doesn't exist"
   ]
  },
  {
   "cell_type": "code",
   "execution_count": null,
   "id": "59de676f-fc8f-451a-858d-4eac84f49799",
   "metadata": {},
   "outputs": [],
   "source": []
  }
 ],
 "metadata": {
  "kernelspec": {
   "display_name": "Python 3 (ipykernel)",
   "language": "python",
   "name": "python3"
  },
  "language_info": {
   "codemirror_mode": {
    "name": "ipython",
    "version": 3
   },
   "file_extension": ".py",
   "mimetype": "text/x-python",
   "name": "python",
   "nbconvert_exporter": "python",
   "pygments_lexer": "ipython3",
   "version": "3.10.8"
  }
 },
 "nbformat": 4,
 "nbformat_minor": 5
}
